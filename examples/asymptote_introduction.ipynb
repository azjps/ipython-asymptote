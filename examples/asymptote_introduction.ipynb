{
 "metadata": {
  "name": "",
  "signature": "sha256:b36ad96096b0eeb50628a0b5496e178a1b87de49910c5267149a42a068b6b7a4"
 },
 "nbformat": 3,
 "nbformat_minor": 0,
 "worksheets": [
  {
   "cells": [
    {
     "cell_type": "heading",
     "level": 3,
     "metadata": {},
     "source": [
      "A brief introduction to Asymptote and the IPython notebook"
     ]
    },
    {
     "cell_type": "markdown",
     "metadata": {},
     "source": [
      "To install Asymptote, see [Asymptote's website](http://asymptote.sourceforge.net/). Asymptote is packaged in certain TeX distributions such as TeX Live. For Windows users, a helpful installation guide is located on this [wiki](http://www.artofproblemsolving.com/Wiki/index.php/Asymptote:_Getting_Started/Windows/Downloads_and_Installation). After installation, confirm that `asy`'s interactive mode works by entering `asy` into your shell / command prompt / etc."
     ]
    },
    {
     "cell_type": "markdown",
     "metadata": {},
     "source": [
      "To install the asymptote IPython magic extension remotely, use the following command. Note that commands starting with percent signs ('%') indicate to IPython to use a [IPython magic](http://nbviewer.ipython.org/github/ipython/ipython/blob/1.x/examples/notebooks/Cell%20Magics.ipynb)."
     ]
    },
    {
     "cell_type": "code",
     "collapsed": false,
     "input": [
      "# Install the IPython magic extension\n",
      "%install_ext http://raw.github.com/azjps/ipython-asymptote/master/asymagic.py"
     ],
     "language": "python",
     "metadata": {},
     "outputs": [
      {
       "output_type": "stream",
       "stream": "stdout",
       "text": [
        "Installed asymagic.py. To use it, type:\n",
        "  %load_ext asymagic\n"
       ]
      }
     ],
     "prompt_number": 1
    },
    {
     "cell_type": "markdown",
     "metadata": {},
     "source": [
      "As instructed, we load asymagic (this can be done directly if `asymagic.py` exists locally):"
     ]
    },
    {
     "cell_type": "code",
     "collapsed": false,
     "input": [
      "%load_ext asymagic"
     ],
     "language": "python",
     "metadata": {},
     "outputs": [],
     "prompt_number": 2
    },
    {
     "cell_type": "markdown",
     "metadata": {},
     "source": [
      "In an IPython notebook you can now use the `%%asy` cell-level magic to run Asymptote commands. As with other magics, appending a question mark (`%%asy?`) brings up a help menu for the command."
     ]
    },
    {
     "cell_type": "code",
     "collapsed": false,
     "input": [
      "%asy?"
     ],
     "language": "python",
     "metadata": {},
     "outputs": [],
     "prompt_number": 3
    },
    {
     "cell_type": "heading",
     "level": 4,
     "metadata": {},
     "source": [
      "A brief introduction to Asymptote"
     ]
    },
    {
     "cell_type": "markdown",
     "metadata": {},
     "source": [
      "(todo) There's a great introduction to Asymptote [here](http://math.uchicago.edu/~cstaats/Charles_Staats_III/Notes_and_papers_files/asymptote_tutorial.pdf). Let's follow along some of the examples."
     ]
    },
    {
     "cell_type": "code",
     "collapsed": false,
     "input": [
      "%%asy\n",
      "label(\"Hello World!\");"
     ],
     "language": "python",
     "metadata": {},
     "outputs": [
      {
       "metadata": {},
       "output_type": "pyout",
       "png": "[encoded data removed]",
       "prompt_number": 4,
       "text": [
        "<IPython.core.display.Image at 0x38e6f98>"
       ]
      }
     ],
     "prompt_number": 4
    },
    {
     "cell_type": "code",
     "collapsed": false,
     "input": [
      "%%asy\n",
      "defaultpen(fontsize(10pt));\n",
      "label(\"Hello world!\");"
     ],
     "language": "python",
     "metadata": {},
     "outputs": [
      {
       "metadata": {},
       "output_type": "pyout",
       "png": "[encoded data removed]",
       "prompt_number": 5,
       "text": [
        "<IPython.core.display.Image at 0x3955748>"
       ]
      }
     ],
     "prompt_number": 5
    },
    {
     "cell_type": "code",
     "collapsed": false,
     "input": [
      "%%asy\n",
      "label(\"Hello world\", p = fontsize(10pt));"
     ],
     "language": "python",
     "metadata": {},
     "outputs": [
      {
       "metadata": {},
       "output_type": "pyout",
       "png": "[encoded data removed]",
       "prompt_number": 6,
       "text": [
        "<IPython.core.display.Image at 0x1dbd9e8>"
       ]
      }
     ],
     "prompt_number": 6
    },
    {
     "cell_type": "code",
     "collapsed": false,
     "input": [
      "%%asy\n",
      "//Basic settings\n",
      "size(11cm, 0);\n",
      "defaultpen(fontsize(10pt));\n",
      "import graph;\n",
      "\n",
      "//Define the command drawshifted, to be used later\n",
      "void drawshifted(path g, pair trueshift, picture pic =\n",
      "currentpicture, Label label=\"\", pen pen=currentpen,\n",
      "arrowbar arrow=None, arrowbar bar=None, margin\n",
      "margin=NoMargin, marker marker=nomarker) {\n",
      "  pic.add(new void(frame f, transform t) {\n",
      "    picture opic;\n",
      "    draw(opic, L=label, shift(trueshift)*t*g, p=pen,\n",
      "         arrow=arrow, bar=bar,\n",
      "    margin=margin, marker=marker);\n",
      "    add(f,opic.fit());\n",
      "  });\n",
      "  pic.addBox(min(g), max(g), trueshift+min(pen),\n",
      "  trueshift+max(pen));\n",
      "}\n",
      "\n",
      "//Save some important numbers.\n",
      "real xmin = -0.1;\n",
      "real xmax = 2;\n",
      "real ymin = -0.1;\n",
      "real ymax = 2;\n",
      "\n",
      "//Draw the graph and fill the area under it.\n",
      "real f(real x) { return sqrt(x); }\n",
      "path s = graph(f, 0, 2, operator..);\n",
      "path fillregion = s -- (xmax,0) -- cycle;\n",
      "pen fillpen = mediumgray;\n",
      "fill(fillregion, fillpen);\n",
      "draw(s, L=Label(\"$y=f(x)$\", position=EndPoint));\n",
      "\n",
      "//Fill the strip of width dx\n",
      "real x = 1.4;\n",
      "real dx = .05;\n",
      "real t0 = times(s,x)[0];\n",
      "real t1 = times(s,x+dx)[0];\n",
      "path striptop = subpath(s,t0,t1);\n",
      "filldraw((x,0) -- striptop -- (x+dx,0) --  cycle, black);\n",
      "\n",
      "//Draw the bars labeling the width dx\n",
      "real barheight = f(x+dx);\n",
      "pair barshifty = (0, 0.2cm);\n",
      "Label dxlabel = Label(\"$dx$\", position=MidPoint, align=2N);\n",
      "drawshifted((x,barheight) -- (x+dx, barheight), trueshift=barshifty, label=dxlabel, bar=Bars);\n",
      "\n",
      "//Draw the arrows pointing inward toward the dx label\n",
      "real myarrowlength = 0.3cm;\n",
      "margin arrowmargin = DotMargin;\n",
      "path leftarrow = shift(barshifty) * ((-myarrowlength, 0) -- (0,0));\n",
      "path rightarrow = shift(barshifty) * ((myarrowlength, 0) -- (0,0));\n",
      "draw((x, barheight), leftarrow, arrow=Arrow(), margin=arrowmargin);\n",
      "draw((x+dx, barheight), rightarrow, arrow=Arrow(), margin=arrowmargin);\n",
      "\n",
      "//Draw the bar labeling the height f(x)\n",
      "real barx = x + dx;\n",
      "pair barshiftx = (0.42cm, 0);\n",
      "Label fxlabel = Label(\"$f(x)$\", align=(0,0), position=MidPoint, filltype=Fill(fillpen));\n",
      "drawshifted((barx,0) -- (barx, f(x)), trueshift=barshiftx, label=fxlabel, arrow=Arrows(), bar=Bars); \n",
      "\n",
      "//Draw the axes on top of everything that has gone before\n",
      "arrowbar axisarrow = Arrow(TeXHead);\n",
      "Label xlabel = Label(\"$x$\", position=EndPoint);\n",
      "draw((xmin,0) -- (xmax,0), arrow=axisarrow, L=xlabel);\n",
      "Label ylabel = Label(\"$y$\", position=EndPoint);\n",
      "draw((0,ymin) -- (0,ymax), arrow = axisarrow, L=ylabel);\n",
      "\n",
      "//Draw the tick mark on the x-axis\n",
      "path tick = (0,0) -- (0,-0.15cm);\n",
      "Label ticklabel = Label(\"$x$\", position=EndPoint);\n",
      "draw((x,0), tick, L=ticklabel);"
     ],
     "language": "python",
     "metadata": {},
     "outputs": [
      {
       "metadata": {},
       "output_type": "pyout",
       "png": "[encoded data removed]",
       "prompt_number": 7,
       "text": [
        "<IPython.core.display.Image at 0x3955c18>"
       ]
      }
     ],
     "prompt_number": 7
    },
    {
     "cell_type": "code",
     "collapsed": false,
     "input": [],
     "language": "python",
     "metadata": {},
     "outputs": [],
     "prompt_number": 7
    }
   ],
   "metadata": {}
  }
 ]
}