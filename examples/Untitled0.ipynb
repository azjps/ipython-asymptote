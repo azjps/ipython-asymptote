{
 "metadata": {
  "name": "",
  "signature": "sha256:c320bece6c9875df814bce9b45d49d9388be49117e79faff0075d713eb9f7544"
 },
 "nbformat": 3,
 "nbformat_minor": 0,
 "worksheets": [
  {
   "cells": [
    {
     "cell_type": "code",
     "collapsed": false,
     "input": [
      "import asymptote"
     ],
     "language": "python",
     "metadata": {},
     "outputs": [
      {
       "ename": "ImportError",
       "evalue": "No module named asymptote",
       "output_type": "pyerr",
       "traceback": [
        "\u001b[1;31m---------------------------------------------------------------------------\u001b[0m\n\u001b[1;31mImportError\u001b[0m                               Traceback (most recent call last)",
        "\u001b[1;32m<ipython-input-1-eac40c3876bb>\u001b[0m in \u001b[0;36m<module>\u001b[1;34m()\u001b[0m\n\u001b[1;32m----> 1\u001b[1;33m \u001b[1;32mimport\u001b[0m \u001b[0masymptote\u001b[0m\u001b[1;33m\u001b[0m\u001b[0m\n\u001b[0m",
        "\u001b[1;31mImportError\u001b[0m: No module named asymptote"
       ]
      }
     ],
     "prompt_number": 1
    },
    {
     "cell_type": "code",
     "collapsed": false,
     "input": [
      "import urllib2\n",
      "import HTMLParser\n",
      "\n",
      "class AsyLinkParser(HTMLParser.HTMLParser):\n",
      "    def handle_starttag(self, tag, attrs):\n",
      "        if not hasattr(self, \"asy_files\"):\n",
      "            self.asy_files = []\n",
      "        if tag == \"a\":\n",
      "            for attr in attrs:\n",
      "                if attr[0] == \"href\" and attr[1].endswith(\".asy\"):\n",
      "                    self.asy_files.append(attr[1])\n",
      "\n",
      "gallery_url_base = \"http://asymptote.sourceforge.net/gallery/\"\n",
      "parser = AsyLinkParser()\n",
      "parser.feed(urllib2.urlopen(gallery_url_base + \".index1.html\").read())"
     ],
     "language": "python",
     "metadata": {},
     "outputs": []
    },
    {
     "cell_type": "code",
     "collapsed": false,
     "input": [
      "asy_codes = []\n",
      "asy_names = []\n",
      "# These require additional asymptote modules\n",
      "skip_list = [\"cpkcolors\", \"embed\", \"logo\", \"settings\"]\n",
      "for gallery_url in parser.asy_files:\n",
      "    if gallery_url == \"intro.asy\":  # This file is missing\n",
      "        continue\n",
      "    asy_code = urllib2.urlopen(gallery_url_base + gallery_url).read()\n",
      "    if not any([skip_word in asy_code for skip_word in skip_list]):\n",
      "        asy_codes.append(asy_code)\n",
      "        asy_names.append(gallery_url)"
     ],
     "language": "python",
     "metadata": {},
     "outputs": []
    },
    {
     "cell_type": "code",
     "collapsed": false,
     "input": [
      "with TemporaryAsymptoteFile(asy_codes) as tmp_asy:\n",
      "    for i, asy_file in enumerate(tmp_asy.asy_files):\n",
      "        print(asy_names[i])\n",
      "        display(_run_asy(asy_file)[0])"
     ],
     "language": "python",
     "metadata": {},
     "outputs": []
    }
   ],
   "metadata": {}
  }
 ]
}