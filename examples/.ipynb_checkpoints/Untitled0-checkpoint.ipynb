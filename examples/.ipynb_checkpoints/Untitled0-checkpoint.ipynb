{
 "metadata": {
  "name": "",
  "signature": "sha256:7d4b51bdd60e551b20e100c504c76a851f1ada3e93cf695adbe01c83f3145378"
 },
 "nbformat": 3,
 "nbformat_minor": 0,
 "worksheets": []
}